{
 "cells": [
  {
   "cell_type": "code",
   "execution_count": 8,
   "id": "07c78148-3dbf-4519-b2d2-f32e9747933c",
   "metadata": {},
   "outputs": [
    {
     "data": {
      "application/vnd.jupyter.widget-view+json": {
       "model_id": "581a1d0c70e0451ebc340a816f063a5e",
       "version_major": 2,
       "version_minor": 0
      },
      "text/plain": [
       "VBox(children=(FloatText(value=8.0, description='α (alpha):'), FloatText(value=12.0, description='β (beta):'),…"
      ]
     },
     "metadata": {},
     "output_type": "display_data"
    },
    {
     "data": {
      "application/vnd.jupyter.widget-view+json": {
       "model_id": "6daca3f3d5ac41318e941581808e5385",
       "version_major": 2,
       "version_minor": 0
      },
      "text/plain": [
       "Output()"
      ]
     },
     "metadata": {},
     "output_type": "display_data"
    }
   ],
   "source": [
    "import numpy as np\n",
    "import matplotlib.pyplot as plt\n",
    "from scipy.stats import beta\n",
    "import ipywidgets as widgets\n",
    "from IPython.display import display\n",
    "\n",
    "def bayes_coin(alpha_prior, beta_prior, trials, successes):\n",
    "    # Validate inputs\n",
    "    if successes > trials:\n",
    "        print(\"You are silly! We cannot have more trials than successes\")\n",
    "        return\n",
    "    \n",
    "    # Here, we will calculate prior statistics\n",
    "    # These values come directly from the beta distribution. I got these values on wikipedia\n",
    "    prior_mean = alpha_prior / (alpha_prior + beta_prior)\n",
    "    prior_variance = (alpha_prior * beta_prior) / (((alpha_prior + beta_prior) ** 2) * (alpha_prior + beta_prior + 1))\n",
    "    prior_sd = np.sqrt(prior_variance)\n",
    "    \n",
    "    # Next, we need to updatethe Beta parameters based on observed data. Alpha and Beta are just fancy talk\n",
    "    # The fancy talk is simply alpha = successes and beta = failures.\n",
    "    # For example, if alpha is 3 and beta is 3, the total number of trials is 6\n",
    "    alpha_post = alpha_prior + successes\n",
    "    beta_post = beta_prior + (trials - successes)\n",
    "    \n",
    "    # Now the fun part! We can easily calculate the posterior statistics\n",
    "    # Same code as before, but we just have new naming conventions.\n",
    "    posterior_mean = alpha_post / (alpha_post + beta_post)\n",
    "    posterior_variance = (alpha_post * beta_post) / (((alpha_post + beta_post) ** 2) * (alpha_post + beta_post + 1))\n",
    "    posterior_sd = np.sqrt(posterior_variance)\n",
    "    \n",
    "    # Let's showcase the differences in measurements\n",
    "    print(\"\\nPrior parameters:\")\n",
    "    print(f\"  α (alpha): {alpha_prior:.2f}\")\n",
    "    print(f\"  β (beta) : {beta_prior:.2f}\")\n",
    "    print(\"\\nPrior values:\")\n",
    "    print(f\"  Mean: {prior_mean:.4f}\")\n",
    "    print(f\"  SD  : {prior_sd:.4f}\")\n",
    "    print(\"\\nPosterior parameters:\")\n",
    "    print(f\"  α (alpha): {alpha_post:.2f}\")\n",
    "    print(f\"  β (beta) : {beta_post:.2f}\")\n",
    "    print(\"\\nUpdated Posterior Statistics:\")\n",
    "    print(f\"  Mean: {posterior_mean:.4f}\")\n",
    "    print(f\"  SD  : {posterior_sd:.4f}\")\n",
    "    \n",
    "    # Plot the prior and posterior distributions\n",
    "    x = np.linspace(0, 1, 300)\n",
    "    y_prior = beta.pdf(x, alpha_prior, beta_prior)\n",
    "    y_post = beta.pdf(x, alpha_post, beta_post)\n",
    "    \n",
    "    plt.figure(figsize=(8, 5))\n",
    "    plt.plot(x, y_prior, 'r-', lw=2, label=\"Prior\")\n",
    "    plt.plot(x, y_post, 'b-', lw=2, label=\"Posterior\")\n",
    "    plt.xlabel(\"Belief in a Coin Bias\")\n",
    "    plt.ylabel(\"Density\")\n",
    "    plt.title(\"Beta Distributions for Prior and Post\")\n",
    "    plt.legend()\n",
    "    plt.show()\n",
    "\n",
    "# This might be buggy. It is my first time using widgest for user inputs.\n",
    "# If you have an issue, I have found that clicking \"return\" helps! \n",
    "alpha_widget = widgets.FloatText(value=8.0, description='α (alpha):')\n",
    "beta_widget = widgets.FloatText(value=12.0, description='β (beta):')\n",
    "total_trials_widget = widgets.IntText(value=20, description='Trials:')\n",
    "successes_widget = widgets.IntText(value=1, description='Successes:')\n",
    "\n",
    "# For a better layout, I am going to make everything vertical.\n",
    "ui = widgets.VBox([alpha_widget, beta_widget, total_trials_widget, successes_widget])\n",
    "\n",
    "# This will display all relevant values.\n",
    "out = widgets.interactive_output(bayes_coin, {\n",
    "    'alpha_prior': alpha_widget,\n",
    "    'beta_prior': beta_widget,\n",
    "    'trials': total_trials_widget,\n",
    "    'successes': successes_widget\n",
    "})\n",
    "\n",
    "display(ui, out)\n"
   ]
  },
  {
   "cell_type": "code",
   "execution_count": null,
   "id": "8432c126-d487-4ae7-9b1b-c1a8789d58c9",
   "metadata": {},
   "outputs": [],
   "source": []
  }
 ],
 "metadata": {
  "kernelspec": {
   "display_name": "Python 3 (ipykernel)",
   "language": "python",
   "name": "python3"
  },
  "language_info": {
   "codemirror_mode": {
    "name": "ipython",
    "version": 3
   },
   "file_extension": ".py",
   "mimetype": "text/x-python",
   "name": "python",
   "nbconvert_exporter": "python",
   "pygments_lexer": "ipython3",
   "version": "3.11.9"
  }
 },
 "nbformat": 4,
 "nbformat_minor": 5
}
